{
 "cells": [
  {
   "cell_type": "code",
   "execution_count": 1,
   "metadata": {},
   "outputs": [],
   "source": [
    "import pandas as pd\n",
    "import numpy as np\n",
    "from sklearn.ensemble import RandomForestClassifier\n",
    "from sklearn.model_selection import train_test_split\n",
    "from sklearn.preprocessing import StandardScaler\n",
    "from sklearn.metrics import accuracy_score\n",
    "from joblib import dump, load"
   ]
  },
  {
   "cell_type": "markdown",
   "metadata": {},
   "source": [
    "## Rainfall Prediction\n",
    "\n",
    "This is a cleaned version of a working jupyter notebook where I attempt to accurately predict whether it will rain on n+1 day given a set of conditions. This is a classification task and is quite straight forward. "
   ]
  },
  {
   "cell_type": "code",
   "execution_count": 2,
   "metadata": {},
   "outputs": [],
   "source": [
    "# Read in the full weather dataset\n",
    "df = pd.read_csv(r\"C:\\Users\\Kendall\\Downloads\\weatherAUS.csv\\weatherAUS.csv\")"
   ]
  },
  {
   "cell_type": "code",
   "execution_count": 3,
   "metadata": {},
   "outputs": [],
   "source": [
    "CITY_TO_PREDICT = \"Hobart\""
   ]
  },
  {
   "cell_type": "code",
   "execution_count": 4,
   "metadata": {},
   "outputs": [],
   "source": [
    "city_subset_df = df.loc[df['Location'] == CITY_TO_PREDICT]\n",
    "\n",
    "city_subset_df = city_subset_df.drop(columns=['Cloud9am', 'Cloud3pm'])\n",
    "city_subset_df = city_subset_df.dropna()\n",
    "\n",
    "city_subset_df['RainToday']  = city_subset_df.RainToday.map(dict(Yes=1, No=0))\n",
    "\n",
    "wd = city_subset_df.WindDir3pm.map(dict(E=0, ENE=67.5, ESE=112.5, \n",
    "                                      N=90, NE=45, NNE=22.5, \n",
    "                                      NNW=337.5, NW=315, \n",
    "                                      S=180, SE=135, SSE=157.5, \n",
    "                                      SSW=202.5, SW=225, \n",
    "                                      W=270, WNW=292.5, WSW=247.5))\n",
    "city_subset_df['numberWindDir3pm'] = wd"
   ]
  },
  {
   "cell_type": "code",
   "execution_count": 9,
   "metadata": {},
   "outputs": [],
   "source": [
    "# Drop the unneccessary columns  \n",
    "X = city_subset_df.drop(columns=['RainTomorrow','Date', 'WindGustDir','Location', 'WindDir9am', 'WindDir3pm', 'Rainfall', 'Sunshine', 'MaxTemp', 'MinTemp', 'Evaporation', 'WindSpeed9am', 'WindSpeed3pm', 'Pressure9am', 'Temp9am', 'Humidity9am'])\n",
    "y = city_subset_df['RainTomorrow']"
   ]
  },
  {
   "cell_type": "code",
   "execution_count": 10,
   "metadata": {},
   "outputs": [],
   "source": [
    "# Scale ready for classification model\n",
    "X_scaled = StandardScaler().fit_transform(X)"
   ]
  },
  {
   "cell_type": "code",
   "execution_count": 12,
   "metadata": {},
   "outputs": [],
   "source": [
    "# Create our test train split, setting a seed so I can eval different methods\n",
    "X_train, X_test, y_train, y_test = train_test_split(X_scaled, y, test_size=.3, random_state=42)"
   ]
  },
  {
   "cell_type": "code",
   "execution_count": 13,
   "metadata": {},
   "outputs": [
    {
     "data": {
      "text/plain": [
       "RandomForestClassifier(bootstrap=True, ccp_alpha=0.0, class_weight=None,\n",
       "                       criterion='entropy', max_depth=8, max_features='auto',\n",
       "                       max_leaf_nodes=None, max_samples=None,\n",
       "                       min_impurity_decrease=0.0, min_impurity_split=None,\n",
       "                       min_samples_leaf=1, min_samples_split=2,\n",
       "                       min_weight_fraction_leaf=0.0, n_estimators=200,\n",
       "                       n_jobs=None, oob_score=False, random_state=None,\n",
       "                       verbose=0, warm_start=False)"
      ]
     },
     "execution_count": 13,
     "metadata": {},
     "output_type": "execute_result"
    }
   ],
   "source": [
    "# I have already determined these as the best parameters with trial and error and help from GridSearchCV\n",
    "rf_model = RandomForestClassifier(n_estimators=200, max_depth=8, criterion='entropy')\n",
    "rf_model.fit(X_train, y_train)"
   ]
  },
  {
   "cell_type": "code",
   "execution_count": 14,
   "metadata": {},
   "outputs": [],
   "source": [
    "y_predict = rf_model.predict(X_test)"
   ]
  },
  {
   "cell_type": "code",
   "execution_count": 15,
   "metadata": {},
   "outputs": [
    {
     "data": {
      "text/plain": [
       "0.8241042345276873"
      ]
     },
     "execution_count": 15,
     "metadata": {},
     "output_type": "execute_result"
    }
   ],
   "source": [
    "accuracy_score(y_test, y_predict)"
   ]
  },
  {
   "cell_type": "markdown",
   "metadata": {},
   "source": [
    "If we are happy with the score above we can dump the model to disk and reload it later for other uses."
   ]
  },
  {
   "cell_type": "code",
   "execution_count": 16,
   "metadata": {},
   "outputs": [
    {
     "data": {
      "text/plain": [
       "['sydney_rain_prediction_model.joblib']"
      ]
     },
     "execution_count": 16,
     "metadata": {},
     "output_type": "execute_result"
    }
   ],
   "source": [
    "dump(rf_model, 'sydney_rain_prediction_model.joblib')"
   ]
  }
 ],
 "metadata": {
  "kernelspec": {
   "display_name": "Python 3",
   "language": "python",
   "name": "python3"
  },
  "language_info": {
   "codemirror_mode": {
    "name": "ipython",
    "version": 3
   },
   "file_extension": ".py",
   "mimetype": "text/x-python",
   "name": "python",
   "nbconvert_exporter": "python",
   "pygments_lexer": "ipython3",
   "version": "3.7.6"
  }
 },
 "nbformat": 4,
 "nbformat_minor": 4
}
